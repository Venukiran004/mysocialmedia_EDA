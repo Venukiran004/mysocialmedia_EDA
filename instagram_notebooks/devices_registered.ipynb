{
 "cells": [
  {
   "attachments": {
    "OIP.jpg": {
     "image/jpeg": "[encoded data removed]"
    }
   },
   "cell_type": "markdown",
   "metadata": {},
   "source": [
    "![OIP.jpg](attachment:OIP.jpg)"
   ]
  },
  {
   "cell_type": "code",
   "execution_count": 2,
   "metadata": {},
   "outputs": [
    {
     "data": {
      "text/plain": [
       "'C:\\\\Users\\\\venuk\\\\OneDrive\\\\Desktop\\\\instagram'"
      ]
     },
     "execution_count": 2,
     "metadata": {},
     "output_type": "execute_result"
    }
   ],
   "source": [
    "import os\n",
    "os.chdir(r\"C:\\Users\\venuk\\OneDrive\\Desktop\\instagram\")\n",
    "os.getcwd()"
   ]
  },
  {
   "cell_type": "code",
   "execution_count": 3,
   "metadata": {},
   "outputs": [],
   "source": [
    "import json\n",
    "import pandas as pd"
   ]
  },
  {
   "cell_type": "code",
   "execution_count": 4,
   "metadata": {},
   "outputs": [],
   "source": [
    "data_device=open('devices.json',\"r\")\n",
    "loaded_data=json.loads(data_device.read())"
   ]
  },
  {
   "cell_type": "code",
   "execution_count": 5,
   "metadata": {},
   "outputs": [
    {
     "data": {
      "text/plain": [
       "dict_keys(['camera', 'devices'])"
      ]
     },
     "execution_count": 5,
     "metadata": {},
     "output_type": "execute_result"
    }
   ],
   "source": [
    "loaded_data.keys()"
   ]
  },
  {
   "cell_type": "code",
   "execution_count": 6,
   "metadata": {},
   "outputs": [],
   "source": [
    "new_value=loaded_data[\"devices\"]"
   ]
  },
  {
   "cell_type": "code",
   "execution_count": 7,
   "metadata": {},
   "outputs": [
    {
     "data": {
      "text/plain": [
       "list"
      ]
     },
     "execution_count": 7,
     "metadata": {},
     "output_type": "execute_result"
    }
   ],
   "source": [
    "type(new_value)"
   ]
  },
  {
   "cell_type": "code",
   "execution_count": 8,
   "metadata": {},
   "outputs": [
    {
     "data": {
      "text/plain": [
       "8"
      ]
     },
     "execution_count": 8,
     "metadata": {},
     "output_type": "execute_result"
    }
   ],
   "source": [
    "len(new_value)"
   ]
  },
  {
   "cell_type": "code",
   "execution_count": 9,
   "metadata": {},
   "outputs": [],
   "source": [
    "data_frame_devices=pd.DataFrame(new_value)"
   ]
  },
  {
   "cell_type": "code",
   "execution_count": 10,
   "metadata": {},
   "outputs": [
    {
     "data": {
      "text/plain": [
       "Index(['last_seen', 'user_agent', 'device_id'], dtype='object')"
      ]
     },
     "execution_count": 10,
     "metadata": {},
     "output_type": "execute_result"
    }
   ],
   "source": [
    "data_frame_devices.columns"
   ]
  },
  {
   "cell_type": "code",
   "execution_count": 28,
   "metadata": {},
   "outputs": [
    {
     "data": {
      "text/plain": [
       "0    Instagram 158.1.0.29.120 (iPhone11,8; iOS 13_6...\n",
       "1    Instagram 97.0.0.32.119 Android (28/9; 320dpi;...\n",
       "2    Instagram 70.0.0.22.98 Android (26/8.0.0; 320d...\n",
       "3    Instagram 57.0.0.5.80 Android (22/5.1; 320dpi;...\n",
       "4    Instagram 10.32.0 Android (19/4.4.2; 320dpi; 7...\n",
       "5    Instagram 10.23.0 Android (22/5.1.1; 240dpi; 8...\n",
       "6    Instagram 10.22.0 Android (19/4.4.2; 320dpi; 7...\n",
       "7    Instagram 10.20.0 Android (19/4.4.2; 320dpi; 7...\n",
       "Name: user_agent, dtype: object"
      ]
     },
     "execution_count": 28,
     "metadata": {},
     "output_type": "execute_result"
    }
   ],
   "source": [
    "data_frame_devices.user_agent"
   ]
  },
  {
   "cell_type": "code",
   "execution_count": 26,
   "metadata": {},
   "outputs": [],
   "source": [
    "devices_loggedin=['HTC Desire 626GPLUS dual sim','HTC Desire 620G dual sim','samsung SM-T285YD, HTC Desire 728 dual sim','samsung SM-J600GF j6lte','iPhone11']"
   ]
  },
  {
   "cell_type": "code",
   "execution_count": 27,
   "metadata": {},
   "outputs": [
    {
     "data": {
      "text/plain": [
       "['HTC Desire 626GPLUS dual sim',\n",
       " 'HTC Desire 620G dual sim',\n",
       " 'samsung SM-T285YD, HTC Desire 728 dual sim',\n",
       " 'samsung SM-J600GF j6lte',\n",
       " 'iPhone11']"
      ]
     },
     "execution_count": 27,
     "metadata": {},
     "output_type": "execute_result"
    }
   ],
   "source": [
    "devices_loggedin"
   ]
  },
  {
   "cell_type": "markdown",
   "metadata": {},
   "source": [
    "logged in from 6 different devices"
   ]
  }
 ],
 "metadata": {
  "kernelspec": {
   "display_name": "Python 3",
   "language": "python",
   "name": "python3"
  },
  "language_info": {
   "codemirror_mode": {
    "name": "ipython",
    "version": 3
   },
   "file_extension": ".py",
   "mimetype": "text/x-python",
   "name": "python",
   "nbconvert_exporter": "python",
   "pygments_lexer": "ipython3",
   "version": "3.7.6"
  }
 },
 "nbformat": 4,
 "nbformat_minor": 4
}
