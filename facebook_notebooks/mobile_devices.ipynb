{
 "cells": [
  {
   "cell_type": "code",
   "execution_count": 100,
   "metadata": {},
   "outputs": [],
   "source": [
    "import json \n",
    "import pandas as pd"
   ]
  },
  {
   "cell_type": "code",
   "execution_count": 103,
   "metadata": {},
   "outputs": [],
   "source": [
    "data=pd.read_json(r\"C:\\Users\\venuk\\OneDrive\\Desktop\\facebook\\security_and_login_information\\mobile_devices.json\")"
   ]
  },
  {
   "cell_type": "code",
   "execution_count": 105,
   "metadata": {},
   "outputs": [
    {
     "data": {
      "text/plain": [
       "Index(['devices'], dtype='object')"
      ]
     },
     "execution_count": 105,
     "metadata": {},
     "output_type": "execute_result"
    }
   ],
   "source": [
    "data.keys()"
   ]
  },
  {
   "cell_type": "code",
   "execution_count": 106,
   "metadata": {},
   "outputs": [
    {
     "data": {
      "text/plain": [
       "0    {'type': 'iPhone11,8', 'os': 'iOS 13.6.1', 'up...\n",
       "Name: devices, dtype: object"
      ]
     },
     "execution_count": 106,
     "metadata": {},
     "output_type": "execute_result"
    }
   ],
   "source": [
    "data[\"devices\"]"
   ]
  },
  {
   "cell_type": "code",
   "execution_count": 108,
   "metadata": {},
   "outputs": [],
   "source": [
    "data1=pd.read_json(r\"C:\\Users\\venuk\\OneDrive\\Desktop\\facebook\\security_and_login_information\\where_you're_logged_in.json\")"
   ]
  },
  {
   "cell_type": "code",
   "execution_count": 110,
   "metadata": {},
   "outputs": [
    {
     "data": {
      "text/plain": [
       "Index(['active_sessions'], dtype='object')"
      ]
     },
     "execution_count": 110,
     "metadata": {},
     "output_type": "execute_result"
    }
   ],
   "source": [
    "data1.columns"
   ]
  },
  {
   "cell_type": "code",
   "execution_count": 116,
   "metadata": {},
   "outputs": [
    {
     "data": {
      "text/plain": [
       "28"
      ]
     },
     "execution_count": 116,
     "metadata": {},
     "output_type": "execute_result"
    }
   ],
   "source": [
    "len(data1[\"active_sessions\"])"
   ]
  },
  {
   "cell_type": "code",
   "execution_count": 118,
   "metadata": {},
   "outputs": [],
   "source": [
    "locat=[]"
   ]
  },
  {
   "cell_type": "code",
   "execution_count": 119,
   "metadata": {},
   "outputs": [
    {
     "data": {
      "text/plain": [
       "'Chittoor, India'"
      ]
     },
     "execution_count": 119,
     "metadata": {},
     "output_type": "execute_result"
    }
   ],
   "source": [
    "data1[\"active_sessions\"][0].get(\"location\")"
   ]
  },
  {
   "cell_type": "code",
   "execution_count": 122,
   "metadata": {},
   "outputs": [],
   "source": [
    "for i in range(len(data1[\"active_sessions\"])):\n",
    "    loacte=data1[\"active_sessions\"][i].get(\"location\")\n",
    "    locat.append(loacte)\n",
    "    "
   ]
  },
  {
   "cell_type": "code",
   "execution_count": 129,
   "metadata": {},
   "outputs": [
    {
     "data": {
      "text/plain": [
       "['Chittoor, India',\n",
       " 'Chittoor, India',\n",
       " 'Chittoor, India',\n",
       " 'Chittoor, India',\n",
       " 'Chittoor, India',\n",
       " 'Hyderabad, India',\n",
       " 'Chittoor, India',\n",
       " 'Chittoor, India',\n",
       " 'Chittoor, India',\n",
       " 'Hyderabad, India',\n",
       " 'Hyderabad, India',\n",
       " 'Hyderabad, India',\n",
       " 'Hyderabad, India',\n",
       " 'Hyderabad, India',\n",
       " 'Hyderabad, India',\n",
       " 'Hyderabad, India',\n",
       " 'Hyderabad, India',\n",
       " 'Hyderabad, India',\n",
       " 'Pune, India',\n",
       " 'Pimpri, India',\n",
       " 'Pune, India',\n",
       " 'Mormugao, India',\n",
       " 'Pune, India',\n",
       " 'Pune, India',\n",
       " 'Pune, India',\n",
       " 'Pune, India',\n",
       " 'Pune, India',\n",
       " 'Pune, India']"
      ]
     },
     "execution_count": 129,
     "metadata": {},
     "output_type": "execute_result"
    }
   ],
   "source": [
    "locat"
   ]
  },
  {
   "cell_type": "code",
   "execution_count": 131,
   "metadata": {},
   "outputs": [],
   "source": [
    "locat_unique=set(locat)"
   ]
  },
  {
   "cell_type": "code",
   "execution_count": 132,
   "metadata": {},
   "outputs": [
    {
     "data": {
      "text/plain": [
       "{'Chittoor, India',\n",
       " 'Hyderabad, India',\n",
       " 'Mormugao, India',\n",
       " 'Pimpri, India',\n",
       " 'Pune, India'}"
      ]
     },
     "execution_count": 132,
     "metadata": {},
     "output_type": "execute_result"
    }
   ],
   "source": [
    "locat_unique"
   ]
  }
 ],
 "metadata": {
  "kernelspec": {
   "display_name": "Python 3",
   "language": "python",
   "name": "python3"
  },
  "language_info": {
   "codemirror_mode": {
    "name": "ipython",
    "version": 3
   },
   "file_extension": ".py",
   "mimetype": "text/x-python",
   "name": "python",
   "nbconvert_exporter": "python",
   "pygments_lexer": "ipython3",
   "version": "3.7.6"
  }
 },
 "nbformat": 4,
 "nbformat_minor": 4
}
