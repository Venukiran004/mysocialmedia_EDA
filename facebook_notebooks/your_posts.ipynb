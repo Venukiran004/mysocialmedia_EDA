{
 "cells": [
  {
   "cell_type": "code",
   "execution_count": 76,
   "metadata": {},
   "outputs": [],
   "source": [
    "import json \n",
    "import pandas as pd"
   ]
  },
  {
   "cell_type": "code",
   "execution_count": 81,
   "metadata": {},
   "outputs": [],
   "source": [
    "data=pd.read_json(r\"C:\\Users\\venuk\\OneDrive\\Desktop\\facebook\\posts\\your_posts_1.json\")"
   ]
  },
  {
   "cell_type": "code",
   "execution_count": 82,
   "metadata": {},
   "outputs": [
    {
     "data": {
      "text/html": [
       "<div>\n",
       "<style scoped>\n",
       "    .dataframe tbody tr th:only-of-type {\n",
       "        vertical-align: middle;\n",
       "    }\n",
       "\n",
       "    .dataframe tbody tr th {\n",
       "        vertical-align: top;\n",
       "    }\n",
       "\n",
       "    .dataframe thead th {\n",
       "        text-align: right;\n",
       "    }\n",
       "</style>\n",
       "<table border=\"1\" class=\"dataframe\">\n",
       "  <thead>\n",
       "    <tr style=\"text-align: right;\">\n",
       "      <th></th>\n",
       "      <th>timestamp</th>\n",
       "      <th>data</th>\n",
       "      <th>title</th>\n",
       "      <th>attachments</th>\n",
       "      <th>tags</th>\n",
       "    </tr>\n",
       "  </thead>\n",
       "  <tbody>\n",
       "    <tr>\n",
       "      <th>0</th>\n",
       "      <td>2020-06-24 05:20:57</td>\n",
       "      <td>[{'post': 'Happy birthday uncle'}]</td>\n",
       "      <td>Venukiran Sankar wrote on Drdayaln Velayudam's...</td>\n",
       "      <td>NaN</td>\n",
       "      <td>NaN</td>\n",
       "    </tr>\n",
       "    <tr>\n",
       "      <th>1</th>\n",
       "      <td>2020-03-30 03:23:17</td>\n",
       "      <td>[{'post': 'Happy birthday bro'}]</td>\n",
       "      <td>Venukiran Sankar wrote on Er Subhadeb Tarei's ...</td>\n",
       "      <td>NaN</td>\n",
       "      <td>NaN</td>\n",
       "    </tr>\n",
       "    <tr>\n",
       "      <th>2</th>\n",
       "      <td>2020-03-15 04:07:32</td>\n",
       "      <td>[{'post': 'Happy birthday broðð'}]</td>\n",
       "      <td>Venukiran Sankar wrote on ArvIND Maurya's Time...</td>\n",
       "      <td>NaN</td>\n",
       "      <td>NaN</td>\n",
       "    </tr>\n",
       "    <tr>\n",
       "      <th>3</th>\n",
       "      <td>2019-12-28 00:20:09</td>\n",
       "      <td>[]</td>\n",
       "      <td>NaN</td>\n",
       "      <td>[{'data': [{'media': {'uri': 'photos_and_video...</td>\n",
       "      <td>[Harish Chandra]</td>\n",
       "    </tr>\n",
       "    <tr>\n",
       "      <th>4</th>\n",
       "      <td>2019-12-25 12:43:42</td>\n",
       "      <td>[]</td>\n",
       "      <td>Venukiran Sankar was with Harish Chandra at Sa...</td>\n",
       "      <td>[{'data': [{'place': {'name': 'Sai Baba Samadh...</td>\n",
       "      <td>[Harish Chandra]</td>\n",
       "    </tr>\n",
       "    <tr>\n",
       "      <th>...</th>\n",
       "      <td>...</td>\n",
       "      <td>...</td>\n",
       "      <td>...</td>\n",
       "      <td>...</td>\n",
       "      <td>...</td>\n",
       "    </tr>\n",
       "    <tr>\n",
       "      <th>135</th>\n",
       "      <td>2013-08-20 04:19:47</td>\n",
       "      <td>[{'post': 'Thanks na'}]</td>\n",
       "      <td>Venukiran Sankar wrote on Kiran Kumar's Timeline.</td>\n",
       "      <td>NaN</td>\n",
       "      <td>NaN</td>\n",
       "    </tr>\n",
       "    <tr>\n",
       "      <th>136</th>\n",
       "      <td>2013-08-15 00:59:39</td>\n",
       "      <td>[]</td>\n",
       "      <td>Venukiran Sankar updated his status.</td>\n",
       "      <td>NaN</td>\n",
       "      <td>NaN</td>\n",
       "    </tr>\n",
       "    <tr>\n",
       "      <th>137</th>\n",
       "      <td>2013-07-26 05:13:53</td>\n",
       "      <td>[{'post': 'rey sai'}]</td>\n",
       "      <td>Venukiran Sankar wrote on Murari Sai Kumar's T...</td>\n",
       "      <td>NaN</td>\n",
       "      <td>NaN</td>\n",
       "    </tr>\n",
       "    <tr>\n",
       "      <th>138</th>\n",
       "      <td>2013-07-17 15:09:49</td>\n",
       "      <td>[{'post': 'Hai sir this is kiran  son of  suma...</td>\n",
       "      <td>Venukiran Sankar wrote on Drdayaln Velayudam's...</td>\n",
       "      <td>NaN</td>\n",
       "      <td>NaN</td>\n",
       "    </tr>\n",
       "    <tr>\n",
       "      <th>139</th>\n",
       "      <td>2013-06-24 16:22:39</td>\n",
       "      <td>[{'post': 'Chittoor'}]</td>\n",
       "      <td>Venukiran Sankar updated his status.</td>\n",
       "      <td>NaN</td>\n",
       "      <td>NaN</td>\n",
       "    </tr>\n",
       "  </tbody>\n",
       "</table>\n",
       "<p>140 rows × 5 columns</p>\n",
       "</div>"
      ],
      "text/plain": [
       "              timestamp                                               data  \\\n",
       "0   2020-06-24 05:20:57                 [{'post': 'Happy birthday uncle'}]   \n",
       "1   2020-03-30 03:23:17                   [{'post': 'Happy birthday bro'}]   \n",
       "2   2020-03-15 04:07:32           [{'post': 'Happy birthday broðð'}]   \n",
       "3   2019-12-28 00:20:09                                                 []   \n",
       "4   2019-12-25 12:43:42                                                 []   \n",
       "..                  ...                                                ...   \n",
       "135 2013-08-20 04:19:47                            [{'post': 'Thanks na'}]   \n",
       "136 2013-08-15 00:59:39                                                 []   \n",
       "137 2013-07-26 05:13:53                              [{'post': 'rey sai'}]   \n",
       "138 2013-07-17 15:09:49  [{'post': 'Hai sir this is kiran  son of  suma...   \n",
       "139 2013-06-24 16:22:39                             [{'post': 'Chittoor'}]   \n",
       "\n",
       "                                                 title  \\\n",
       "0    Venukiran Sankar wrote on Drdayaln Velayudam's...   \n",
       "1    Venukiran Sankar wrote on Er Subhadeb Tarei's ...   \n",
       "2    Venukiran Sankar wrote on ArvIND Maurya's Time...   \n",
       "3                                                  NaN   \n",
       "4    Venukiran Sankar was with Harish Chandra at Sa...   \n",
       "..                                                 ...   \n",
       "135  Venukiran Sankar wrote on Kiran Kumar's Timeline.   \n",
       "136               Venukiran Sankar updated his status.   \n",
       "137  Venukiran Sankar wrote on Murari Sai Kumar's T...   \n",
       "138  Venukiran Sankar wrote on Drdayaln Velayudam's...   \n",
       "139               Venukiran Sankar updated his status.   \n",
       "\n",
       "                                           attachments              tags  \n",
       "0                                                  NaN               NaN  \n",
       "1                                                  NaN               NaN  \n",
       "2                                                  NaN               NaN  \n",
       "3    [{'data': [{'media': {'uri': 'photos_and_video...  [Harish Chandra]  \n",
       "4    [{'data': [{'place': {'name': 'Sai Baba Samadh...  [Harish Chandra]  \n",
       "..                                                 ...               ...  \n",
       "135                                                NaN               NaN  \n",
       "136                                                NaN               NaN  \n",
       "137                                                NaN               NaN  \n",
       "138                                                NaN               NaN  \n",
       "139                                                NaN               NaN  \n",
       "\n",
       "[140 rows x 5 columns]"
      ]
     },
     "execution_count": 82,
     "metadata": {},
     "output_type": "execute_result"
    }
   ],
   "source": [
    "data"
   ]
  },
  {
   "cell_type": "code",
   "execution_count": 83,
   "metadata": {},
   "outputs": [
    {
     "data": {
      "text/plain": [
       "Index(['timestamp', 'data', 'title', 'attachments', 'tags'], dtype='object')"
      ]
     },
     "execution_count": 83,
     "metadata": {},
     "output_type": "execute_result"
    }
   ],
   "source": [
    "data.columns"
   ]
  },
  {
   "cell_type": "code",
   "execution_count": 93,
   "metadata": {},
   "outputs": [],
   "source": [
    "na_removed=data[\"attachments\"].dropna()"
   ]
  },
  {
   "cell_type": "code",
   "execution_count": 95,
   "metadata": {},
   "outputs": [
    {
     "data": {
      "text/plain": [
       "14"
      ]
     },
     "execution_count": 95,
     "metadata": {},
     "output_type": "execute_result"
    }
   ],
   "source": [
    "len(na_removed)  ##14 posts have media"
   ]
  },
  {
   "cell_type": "code",
   "execution_count": 96,
   "metadata": {},
   "outputs": [
    {
     "data": {
      "text/plain": [
       "9"
      ]
     },
     "execution_count": 96,
     "metadata": {},
     "output_type": "execute_result"
    }
   ],
   "source": [
    "len(data[\"tags\"].dropna())  ## 9 posts have tags"
   ]
  },
  {
   "cell_type": "code",
   "execution_count": 98,
   "metadata": {},
   "outputs": [
    {
     "data": {
      "text/html": [
       "<div>\n",
       "<style scoped>\n",
       "    .dataframe tbody tr th:only-of-type {\n",
       "        vertical-align: middle;\n",
       "    }\n",
       "\n",
       "    .dataframe tbody tr th {\n",
       "        vertical-align: top;\n",
       "    }\n",
       "\n",
       "    .dataframe thead th {\n",
       "        text-align: right;\n",
       "    }\n",
       "</style>\n",
       "<table border=\"1\" class=\"dataframe\">\n",
       "  <thead>\n",
       "    <tr style=\"text-align: right;\">\n",
       "      <th></th>\n",
       "      <th>attachments</th>\n",
       "      <th>tags</th>\n",
       "    </tr>\n",
       "  </thead>\n",
       "  <tbody>\n",
       "    <tr>\n",
       "      <th>3</th>\n",
       "      <td>[{'data': [{'media': {'uri': 'photos_and_video...</td>\n",
       "      <td>[Harish Chandra]</td>\n",
       "    </tr>\n",
       "    <tr>\n",
       "      <th>4</th>\n",
       "      <td>[{'data': [{'place': {'name': 'Sai Baba Samadh...</td>\n",
       "      <td>[Harish Chandra]</td>\n",
       "    </tr>\n",
       "    <tr>\n",
       "      <th>8</th>\n",
       "      <td>[{'data': [{'media': {'uri': 'photos_and_video...</td>\n",
       "      <td>[Sarath Kumar]</td>\n",
       "    </tr>\n",
       "    <tr>\n",
       "      <th>9</th>\n",
       "      <td>[{'data': [{'media': {'uri': 'photos_and_video...</td>\n",
       "      <td>[Harish Chandra]</td>\n",
       "    </tr>\n",
       "    <tr>\n",
       "      <th>10</th>\n",
       "      <td>[{'data': [{'text': 'Venukiran and Harish are ...</td>\n",
       "      <td>[Harish Chandra]</td>\n",
       "    </tr>\n",
       "    <tr>\n",
       "      <th>14</th>\n",
       "      <td>[{'data': [{'text': 'https://www.facebook.com/...</td>\n",
       "      <td>[Harish Chandra]</td>\n",
       "    </tr>\n",
       "    <tr>\n",
       "      <th>17</th>\n",
       "      <td>[{'data': [{'external_context': {'name': 'Inst...</td>\n",
       "      <td>[Vetrivel Sivakumar, Vishnu Manikandan]</td>\n",
       "    </tr>\n",
       "    <tr>\n",
       "      <th>22</th>\n",
       "      <td>[{'data': [{'media': {'uri': 'photos_and_video...</td>\n",
       "      <td>[Prudhvi Prabhas]</td>\n",
       "    </tr>\n",
       "  </tbody>\n",
       "</table>\n",
       "</div>"
      ],
      "text/plain": [
       "                                          attachments  \\\n",
       "3   [{'data': [{'media': {'uri': 'photos_and_video...   \n",
       "4   [{'data': [{'place': {'name': 'Sai Baba Samadh...   \n",
       "8   [{'data': [{'media': {'uri': 'photos_and_video...   \n",
       "9   [{'data': [{'media': {'uri': 'photos_and_video...   \n",
       "10  [{'data': [{'text': 'Venukiran and Harish are ...   \n",
       "14  [{'data': [{'text': 'https://www.facebook.com/...   \n",
       "17  [{'data': [{'external_context': {'name': 'Inst...   \n",
       "22  [{'data': [{'media': {'uri': 'photos_and_video...   \n",
       "\n",
       "                                       tags  \n",
       "3                          [Harish Chandra]  \n",
       "4                          [Harish Chandra]  \n",
       "8                            [Sarath Kumar]  \n",
       "9                          [Harish Chandra]  \n",
       "10                         [Harish Chandra]  \n",
       "14                         [Harish Chandra]  \n",
       "17  [Vetrivel Sivakumar, Vishnu Manikandan]  \n",
       "22                        [Prudhvi Prabhas]  "
      ]
     },
     "execution_count": 98,
     "metadata": {},
     "output_type": "execute_result"
    }
   ],
   "source": [
    "data[[\"attachments\",\"tags\"]].dropna()"
   ]
  },
  {
   "cell_type": "code",
   "execution_count": 99,
   "metadata": {},
   "outputs": [
    {
     "data": {
      "text/plain": [
       "8"
      ]
     },
     "execution_count": 99,
     "metadata": {},
     "output_type": "execute_result"
    }
   ],
   "source": [
    "len(data[[\"attachments\",\"tags\"]].dropna())  # 8 posts has both media ,tags"
   ]
  }
 ],
 "metadata": {
  "kernelspec": {
   "display_name": "Python 3",
   "language": "python",
   "name": "python3"
  },
  "language_info": {
   "codemirror_mode": {
    "name": "ipython",
    "version": 3
   },
   "file_extension": ".py",
   "mimetype": "text/x-python",
   "name": "python",
   "nbconvert_exporter": "python",
   "pygments_lexer": "ipython3",
   "version": "3.7.6"
  }
 },
 "nbformat": 4,
 "nbformat_minor": 4
}
