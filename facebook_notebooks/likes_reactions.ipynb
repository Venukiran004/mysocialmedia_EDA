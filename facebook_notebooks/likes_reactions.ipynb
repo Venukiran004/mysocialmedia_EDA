{
 "cells": [
  {
   "cell_type": "code",
   "execution_count": 42,
   "metadata": {},
   "outputs": [],
   "source": [
    "import json \n",
    "import pandas as pd"
   ]
  },
  {
   "cell_type": "code",
   "execution_count": 43,
   "metadata": {},
   "outputs": [],
   "source": [
    "data=pd.read_json(r\"C:\\Users\\venuk\\OneDrive\\Desktop\\facebook\\likes_and_reactions\\pages.json\")"
   ]
  },
  {
   "cell_type": "code",
   "execution_count": 45,
   "metadata": {},
   "outputs": [
    {
     "data": {
      "text/html": [
       "<div>\n",
       "<style scoped>\n",
       "    .dataframe tbody tr th:only-of-type {\n",
       "        vertical-align: middle;\n",
       "    }\n",
       "\n",
       "    .dataframe tbody tr th {\n",
       "        vertical-align: top;\n",
       "    }\n",
       "\n",
       "    .dataframe thead th {\n",
       "        text-align: right;\n",
       "    }\n",
       "</style>\n",
       "<table border=\"1\" class=\"dataframe\">\n",
       "  <thead>\n",
       "    <tr style=\"text-align: right;\">\n",
       "      <th></th>\n",
       "      <th>page_likes</th>\n",
       "    </tr>\n",
       "  </thead>\n",
       "  <tbody>\n",
       "    <tr>\n",
       "      <th>0</th>\n",
       "      <td>{'name': 'Applied AI Course', 'timestamp': 159...</td>\n",
       "    </tr>\n",
       "    <tr>\n",
       "      <th>1</th>\n",
       "      <td>{'name': 'Homebliss', 'timestamp': 1581146999}</td>\n",
       "    </tr>\n",
       "    <tr>\n",
       "      <th>2</th>\n",
       "      <td>{'name': 'Weekend Thrill', 'timestamp': 156497...</td>\n",
       "    </tr>\n",
       "    <tr>\n",
       "      <th>3</th>\n",
       "      <td>{'name': 'BEARD MAN KING', 'timestamp': 156367...</td>\n",
       "    </tr>\n",
       "    <tr>\n",
       "      <th>4</th>\n",
       "      <td>{'name': 'Telugu Swag', 'timestamp': 1551952328}</td>\n",
       "    </tr>\n",
       "    <tr>\n",
       "      <th>...</th>\n",
       "      <td>...</td>\n",
       "    </tr>\n",
       "    <tr>\n",
       "      <th>370</th>\n",
       "      <td>{'name': 'KakÃ¡', 'timestamp': 1385778054}</td>\n",
       "    </tr>\n",
       "    <tr>\n",
       "      <th>371</th>\n",
       "      <td>{'name': 'Pawan Kalyan', 'timestamp': 1385777916}</td>\n",
       "    </tr>\n",
       "    <tr>\n",
       "      <th>372</th>\n",
       "      <td>{'name': 'A. P. J. Abdul Kalam', 'timestamp': ...</td>\n",
       "    </tr>\n",
       "    <tr>\n",
       "      <th>373</th>\n",
       "      <td>{'name': 'Swami Vivekananda', 'timestamp': 137...</td>\n",
       "    </tr>\n",
       "    <tr>\n",
       "      <th>374</th>\n",
       "      <td>{'name': 'Shewag', 'timestamp': 1376923498}</td>\n",
       "    </tr>\n",
       "  </tbody>\n",
       "</table>\n",
       "<p>375 rows × 1 columns</p>\n",
       "</div>"
      ],
      "text/plain": [
       "                                            page_likes\n",
       "0    {'name': 'Applied AI Course', 'timestamp': 159...\n",
       "1       {'name': 'Homebliss', 'timestamp': 1581146999}\n",
       "2    {'name': 'Weekend Thrill', 'timestamp': 156497...\n",
       "3    {'name': 'BEARD MAN KING', 'timestamp': 156367...\n",
       "4     {'name': 'Telugu Swag', 'timestamp': 1551952328}\n",
       "..                                                 ...\n",
       "370         {'name': 'KakÃ¡', 'timestamp': 1385778054}\n",
       "371  {'name': 'Pawan Kalyan', 'timestamp': 1385777916}\n",
       "372  {'name': 'A. P. J. Abdul Kalam', 'timestamp': ...\n",
       "373  {'name': 'Swami Vivekananda', 'timestamp': 137...\n",
       "374        {'name': 'Shewag', 'timestamp': 1376923498}\n",
       "\n",
       "[375 rows x 1 columns]"
      ]
     },
     "execution_count": 45,
     "metadata": {},
     "output_type": "execute_result"
    }
   ],
   "source": [
    "data  "
   ]
  },
  {
   "cell_type": "code",
   "execution_count": 46,
   "metadata": {},
   "outputs": [],
   "source": [
    "data1=pd.read_json(r\"C:\\Users\\venuk\\OneDrive\\Desktop\\facebook\\likes_and_reactions\\posts_and_comments.json\")"
   ]
  },
  {
   "cell_type": "code",
   "execution_count": 50,
   "metadata": {},
   "outputs": [
    {
     "data": {
      "text/plain": [
       "Index(['reactions'], dtype='object')"
      ]
     },
     "execution_count": 50,
     "metadata": {},
     "output_type": "execute_result"
    }
   ],
   "source": [
    "data1.keys()"
   ]
  },
  {
   "cell_type": "code",
   "execution_count": 68,
   "metadata": {},
   "outputs": [
    {
     "data": {
      "text/plain": [
       "{'timestamp': 1599705750,\n",
       " 'data': [{'reaction': {'reaction': 'HAHA', 'actor': 'Venukiran Sankar'}}],\n",
       " 'title': \"Venukiran Sankar reacted to Durga Prasad's post.\"}"
      ]
     },
     "execution_count": 68,
     "metadata": {},
     "output_type": "execute_result"
    }
   ],
   "source": [
    "data1['reactions'][0]"
   ]
  },
  {
   "cell_type": "code",
   "execution_count": 69,
   "metadata": {},
   "outputs": [
    {
     "data": {
      "text/plain": [
       "3281"
      ]
     },
     "execution_count": 69,
     "metadata": {},
     "output_type": "execute_result"
    }
   ],
   "source": [
    "len(data1)"
   ]
  },
  {
   "cell_type": "markdown",
   "metadata": {},
   "source": [
    "total no reactions  for  post and comments is 3281"
   ]
  },
  {
   "cell_type": "markdown",
   "metadata": {},
   "source": [
    "total nof reactions for pages is 375"
   ]
  }
 ],
 "metadata": {
  "kernelspec": {
   "display_name": "Python 3",
   "language": "python",
   "name": "python3"
  },
  "language_info": {
   "codemirror_mode": {
    "name": "ipython",
    "version": 3
   },
   "file_extension": ".py",
   "mimetype": "text/x-python",
   "name": "python",
   "nbconvert_exporter": "python",
   "pygments_lexer": "ipython3",
   "version": "3.7.6"
  }
 },
 "nbformat": 4,
 "nbformat_minor": 4
}
